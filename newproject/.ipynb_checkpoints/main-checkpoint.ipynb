{
 "cells": [
  {
   "cell_type": "code",
   "execution_count": 1,
   "metadata": {},
   "outputs": [],
   "source": [
    "import sys\n",
    "from sklearn.naive_bayes import GaussianNB\n",
    "from sklearn.linear_model import LogisticRegression\n",
    "from sklearn.model_selection import train_test_split"
   ]
  },
  {
   "cell_type": "code",
   "execution_count": 2,
   "metadata": {},
   "outputs": [],
   "source": [
    "# data_file=sys.argv[1]\n",
    "# label_file=sys.argv[2]\n",
    "# test_file=sys.argv[3]\n",
    "\n",
    "data_file=\"./dataSets/traindata\"\n",
    "label_file=\"./dataSets/trainingLabels.txt\"\n",
    "test_file=\"./dataSets/testdata\"\n",
    "\n",
    "with open(data_file) as f:\n",
    "    data=f.read().splitlines()\n",
    "\n",
    "with open(label_file) as f:\n",
    "    label=f.read().splitlines()\n",
    "    \n",
    "with open(test_file) as f:\n",
    "    test_data=f.read().splitlines()"
   ]
  },
  {
   "cell_type": "code",
   "execution_count": 3,
   "metadata": {},
   "outputs": [],
   "source": [
    "limit=1000\n",
    "data=data[:limit]\n",
    "label=label[:limit]\n",
    "test_data=test_data[:limit]"
   ]
  },
  {
   "cell_type": "code",
   "execution_count": 88,
   "metadata": {},
   "outputs": [],
   "source": [
    "data=[[float(x) for x in y.split()] for y in data]\n",
    "label=[[int(x) for x in y.split()] for y in label]\n",
    "label=[x[0] for x in label]\n",
    "test_data=[[int(x) for x in y.split()] for y in test_data]\n",
    "\n",
    "rows=len(data)\n",
    "cols=len(data[0])"
   ]
  },
  {
   "cell_type": "code",
   "execution_count": 90,
   "metadata": {},
   "outputs": [],
   "source": [
    "def feature_selection(data,label,topk):\n",
    "    values=[]\n",
    "\n",
    "    for j in range(cols):            \n",
    "        table=[[1,1],[1,1],[1,1]]\n",
    "        for i in range(rows):\n",
    "            \n",
    "            if(data[i][j]==0):\n",
    "                if(label[i]==0):\n",
    "                    table[0][0]+=1\n",
    "                if(label[i]==1):\n",
    "                    table[0][1]+=1\n",
    "            \n",
    "            if(data[i][j]==1):\n",
    "                if(label[i]==0):\n",
    "                    table[1][0]+=1\n",
    "                if(label[i]==1):\n",
    "                    table[1][1]+=1\n",
    "                    \n",
    "            if(data[i][j]==2):\n",
    "                if(label[i]==0):\n",
    "                    table[2][0]+=1\n",
    "                if(label[i]==1):\n",
    "                    table[2][1]+=1\n",
    "                    \n",
    "        col_sum = [sum(c) for c in table]\n",
    "        tot_sum = sum(col_sum)\n",
    "        \n",
    "        row_sum = [sum(c) for c in zip(*table)]\n",
    "        \n",
    "        exp = [[(x*y)/tot_sum for x in row_sum] for y in col_sum]\n",
    "        sqr = [[((table[i][j] - exp[i][j])**2)/exp[i][j] for j in range(len(exp[0]))] for i in range(len(exp))]\n",
    "        chi2 = sum([sum(x) for x in zip(*sqr)])\n",
    "        values.append(chi2)\n",
    "        \n",
    "    index = sorted(range(len(values)), key=values.__getitem__, reverse=True)\n",
    "    sorted_index= index[:topk]\n",
    "    return sorted_index"
   ]
  },
  {
   "cell_type": "code",
   "execution_count": 91,
   "metadata": {},
   "outputs": [
    {
     "name": "stdout",
     "output_type": "stream",
     "text": [
      "Columns used in prediction : [4500, 2690, 2691, 25000, 25010, 13717, 25014, 13005, 21545, 21547, 7163, 18358, 25017, 25889, 5006, 15019, 4036, 4038, 13008, 5000]\n"
     ]
    }
   ],
   "source": [
    "def get_data(data,test_data):\n",
    "    indices=feature_selection(data,label,20)  \n",
    "    print(\"Columns used in prediction : {}\".format(indices))    \n",
    "    new_data=[]\n",
    "    new_test_data=[]\n",
    "    rows=len(data)\n",
    "    trows=len(test_data)\n",
    "    for idx in indices:\n",
    "        temp=[data[i][idx] for i in range(rows)]\n",
    "        new_data.append(temp)\n",
    "        \n",
    "        temp=[test_data[i][idx] for i in range(trows)]\n",
    "        new_test_data.append(temp)\n",
    "    \n",
    "    return list(zip(*new_data)),list(zip(*new_test_data))\n",
    "\n",
    "data,test_data=get_data(data,test_data)"
   ]
  },
  {
   "cell_type": "code",
   "execution_count": 92,
   "metadata": {},
   "outputs": [
    {
     "name": "stderr",
     "output_type": "stream",
     "text": [
      "/usr/local/lib/python3.7/site-packages/sklearn/linear_model/logistic.py:432: FutureWarning: Default solver will be changed to 'lbfgs' in 0.22. Specify a solver to silence this warning.\n",
      "  FutureWarning)\n"
     ]
    },
    {
     "ename": "ValueError",
     "evalue": "This solver needs samples of at least 2 classes in the data, but the data contains only one class: 0",
     "output_type": "error",
     "traceback": [
      "\u001b[0;31m---------------------------------------------------------------------------\u001b[0m",
      "\u001b[0;31mValueError\u001b[0m                                Traceback (most recent call last)",
      "\u001b[0;32m<ipython-input-92-4b1a225c67ac>\u001b[0m in \u001b[0;36m<module>\u001b[0;34m\u001b[0m\n\u001b[1;32m      4\u001b[0m \u001b[0;31m# clf=GaussianNB()\u001b[0m\u001b[0;34m\u001b[0m\u001b[0;34m\u001b[0m\u001b[0;34m\u001b[0m\u001b[0m\n\u001b[1;32m      5\u001b[0m \u001b[0mclf\u001b[0m\u001b[0;34m=\u001b[0m\u001b[0mLogisticRegression\u001b[0m\u001b[0;34m(\u001b[0m\u001b[0;34m)\u001b[0m\u001b[0;34m\u001b[0m\u001b[0;34m\u001b[0m\u001b[0m\n\u001b[0;32m----> 6\u001b[0;31m \u001b[0mclf\u001b[0m\u001b[0;34m.\u001b[0m\u001b[0mfit\u001b[0m\u001b[0;34m(\u001b[0m\u001b[0mtrain_x\u001b[0m\u001b[0;34m,\u001b[0m\u001b[0mtrain_y\u001b[0m\u001b[0;34m)\u001b[0m\u001b[0;34m\u001b[0m\u001b[0;34m\u001b[0m\u001b[0m\n\u001b[0m\u001b[1;32m      7\u001b[0m \u001b[0mscore\u001b[0m\u001b[0;34m=\u001b[0m\u001b[0mclf\u001b[0m\u001b[0;34m.\u001b[0m\u001b[0mscore\u001b[0m\u001b[0;34m(\u001b[0m\u001b[0mtest_x\u001b[0m\u001b[0;34m,\u001b[0m\u001b[0mtest_y\u001b[0m\u001b[0;34m)\u001b[0m\u001b[0;34m\u001b[0m\u001b[0;34m\u001b[0m\u001b[0m\n\u001b[1;32m      8\u001b[0m \u001b[0mprint\u001b[0m\u001b[0;34m(\u001b[0m\u001b[0;34m\"Validation score : {}\"\u001b[0m\u001b[0;34m.\u001b[0m\u001b[0mformat\u001b[0m\u001b[0;34m(\u001b[0m\u001b[0mscore\u001b[0m\u001b[0;34m)\u001b[0m\u001b[0;34m)\u001b[0m\u001b[0;34m\u001b[0m\u001b[0;34m\u001b[0m\u001b[0m\n",
      "\u001b[0;32m/usr/local/lib/python3.7/site-packages/sklearn/linear_model/logistic.py\u001b[0m in \u001b[0;36mfit\u001b[0;34m(self, X, y, sample_weight)\u001b[0m\n\u001b[1;32m   1547\u001b[0m                 \u001b[0mself\u001b[0m\u001b[0;34m.\u001b[0m\u001b[0mclass_weight\u001b[0m\u001b[0;34m,\u001b[0m \u001b[0mself\u001b[0m\u001b[0;34m.\u001b[0m\u001b[0mpenalty\u001b[0m\u001b[0;34m,\u001b[0m \u001b[0mself\u001b[0m\u001b[0;34m.\u001b[0m\u001b[0mdual\u001b[0m\u001b[0;34m,\u001b[0m \u001b[0mself\u001b[0m\u001b[0;34m.\u001b[0m\u001b[0mverbose\u001b[0m\u001b[0;34m,\u001b[0m\u001b[0;34m\u001b[0m\u001b[0;34m\u001b[0m\u001b[0m\n\u001b[1;32m   1548\u001b[0m                 \u001b[0mself\u001b[0m\u001b[0;34m.\u001b[0m\u001b[0mmax_iter\u001b[0m\u001b[0;34m,\u001b[0m \u001b[0mself\u001b[0m\u001b[0;34m.\u001b[0m\u001b[0mtol\u001b[0m\u001b[0;34m,\u001b[0m \u001b[0mself\u001b[0m\u001b[0;34m.\u001b[0m\u001b[0mrandom_state\u001b[0m\u001b[0;34m,\u001b[0m\u001b[0;34m\u001b[0m\u001b[0;34m\u001b[0m\u001b[0m\n\u001b[0;32m-> 1549\u001b[0;31m                 sample_weight=sample_weight)\n\u001b[0m\u001b[1;32m   1550\u001b[0m             \u001b[0mself\u001b[0m\u001b[0;34m.\u001b[0m\u001b[0mn_iter_\u001b[0m \u001b[0;34m=\u001b[0m \u001b[0mnp\u001b[0m\u001b[0;34m.\u001b[0m\u001b[0marray\u001b[0m\u001b[0;34m(\u001b[0m\u001b[0;34m[\u001b[0m\u001b[0mn_iter_\u001b[0m\u001b[0;34m]\u001b[0m\u001b[0;34m)\u001b[0m\u001b[0;34m\u001b[0m\u001b[0;34m\u001b[0m\u001b[0m\n\u001b[1;32m   1551\u001b[0m             \u001b[0;32mreturn\u001b[0m \u001b[0mself\u001b[0m\u001b[0;34m\u001b[0m\u001b[0;34m\u001b[0m\u001b[0m\n",
      "\u001b[0;32m/usr/local/lib/python3.7/site-packages/sklearn/svm/base.py\u001b[0m in \u001b[0;36m_fit_liblinear\u001b[0;34m(X, y, C, fit_intercept, intercept_scaling, class_weight, penalty, dual, verbose, max_iter, tol, random_state, multi_class, loss, epsilon, sample_weight)\u001b[0m\n\u001b[1;32m    877\u001b[0m             raise ValueError(\"This solver needs samples of at least 2 classes\"\n\u001b[1;32m    878\u001b[0m                              \u001b[0;34m\" in the data, but the data contains only one\"\u001b[0m\u001b[0;34m\u001b[0m\u001b[0;34m\u001b[0m\u001b[0m\n\u001b[0;32m--> 879\u001b[0;31m                              \" class: %r\" % classes_[0])\n\u001b[0m\u001b[1;32m    880\u001b[0m \u001b[0;34m\u001b[0m\u001b[0m\n\u001b[1;32m    881\u001b[0m         \u001b[0mclass_weight_\u001b[0m \u001b[0;34m=\u001b[0m \u001b[0mcompute_class_weight\u001b[0m\u001b[0;34m(\u001b[0m\u001b[0mclass_weight\u001b[0m\u001b[0;34m,\u001b[0m \u001b[0mclasses_\u001b[0m\u001b[0;34m,\u001b[0m \u001b[0my\u001b[0m\u001b[0;34m)\u001b[0m\u001b[0;34m\u001b[0m\u001b[0;34m\u001b[0m\u001b[0m\n",
      "\u001b[0;31mValueError\u001b[0m: This solver needs samples of at least 2 classes in the data, but the data contains only one class: 0"
     ]
    }
   ],
   "source": [
    "#splitting data into training and testing\n",
    "# for cross vaildation\n",
    "train_x,test_x,train_y,test_y=train_test_split(data,label,test_size=0.2,shuffle=True)\n",
    "# clf=GaussianNB()\n",
    "clf=LogisticRegression()\n",
    "clf.fit(train_x,train_y)\n",
    "score=clf.score(test_x,test_y)\n",
    "print(\"Validation score : {}\".format(score))\n",
    "\n",
    "\n",
    "clf=LogisticRegression()\n",
    "clf.fit(data,label)\n",
    "acc=clf.score(data,label)\n",
    "prediction=clf.predict(test_data)\n",
    "\n",
    "for i in range(test_data):\n",
    "    print(prediction[i],\" \",i)\n",
    "    \n",
    "print(\"\\nAccuracy : {}\".format(acc))"
   ]
  },
  {
   "cell_type": "code",
   "execution_count": null,
   "metadata": {},
   "outputs": [],
   "source": []
  },
  {
   "cell_type": "code",
   "execution_count": null,
   "metadata": {},
   "outputs": [],
   "source": []
  }
 ],
 "metadata": {
  "kernelspec": {
   "display_name": "Python 3",
   "language": "python",
   "name": "python3"
  },
  "language_info": {
   "codemirror_mode": {
    "name": "ipython",
    "version": 3
   },
   "file_extension": ".py",
   "mimetype": "text/x-python",
   "name": "python",
   "nbconvert_exporter": "python",
   "pygments_lexer": "ipython3",
   "version": "3.7.3"
  }
 },
 "nbformat": 4,
 "nbformat_minor": 2
}
