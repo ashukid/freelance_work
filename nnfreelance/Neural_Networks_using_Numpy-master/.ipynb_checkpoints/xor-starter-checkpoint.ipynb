{
 "cells": [
  {
   "cell_type": "code",
   "execution_count": 1,
   "metadata": {},
   "outputs": [],
   "source": [
    "import numpy as np\n",
    "import matplotlib.pyplot as plt"
   ]
  },
  {
   "cell_type": "code",
   "execution_count": 13,
   "metadata": {},
   "outputs": [],
   "source": [
    "def getData(type='xor'):\n",
    "    xd=np.array([[0,0],[0,1],[1,0],[1,1]],dtype=np.float32)\n",
    "    if(type=='xor'):\n",
    "        yd=np.array([[0],[1],[1],[0]],dtype=np.float32)\n",
    "    if(type=='or'):\n",
    "        yd=np.array([[0],[1],[1],[1]],dtype=np.float32)\n",
    "    if(type=='and'):\n",
    "        yd=np.array([[0],[0],[0],[1]],dtype=np.float32)\n",
    "    \n",
    "    return xd,yd\n",
    "\n",
    "def plotData(x1,x2,y):\n",
    "    plt.scatter(x1,x2,c=y)\n",
    "    plt.colorbar()\n",
    "    plt.show()"
   ]
  },
  {
   "cell_type": "code",
   "execution_count": 14,
   "metadata": {},
   "outputs": [
    {
     "data": {
      "image/png": "[encoded data removed]",
      "text/plain": [
       "<Figure size 432x288 with 2 Axes>"
      ]
     },
     "metadata": {
      "needs_background": "light"
     },
     "output_type": "display_data"
    }
   ],
   "source": [
    "xd,yd=getData('xor')\n",
    "plotData(xd[:,0],xd[:,1],yd.flatten())"
   ]
  },
  {
   "cell_type": "code",
   "execution_count": 15,
   "metadata": {},
   "outputs": [],
   "source": [
    "def sigmoid(x):\n",
    "    return 1/(1+np.exp(-x))\n",
    "\n",
    "def forward(x,w):\n",
    "    return np.matmul(x,w)\n",
    "\n",
    "def forward_with_bias(x,w,b):\n",
    "    y=np.matmul(x,w)\n",
    "    for i in range(b.shape[0]):\n",
    "        y[:,i] += b[i]\n",
    "    return y\n",
    "\n",
    "def crossloss(y,y_):\n",
    "    return (-y*np.log(y_))-((1-y)*np.log(1-y_))\n",
    "\n",
    "def meanloss(y,y_):\n",
    "    return ((y-y_)*(y-y_))\n",
    "\n",
    "def append_ones(arr):\n",
    "    return np.concatenate((np.ones(shape=(arr.shape[0],1)),arr),axis=1)\n",
    "\n",
    "def downstream(w,dw):\n",
    "    out=np.zeros(shape=(dw.shape[0],w.shape[0]))\n",
    "    for i in range(w.shape[0]):\n",
    "        out[:,i:i+1]=dw*w[i]\n",
    "    return out\n",
    "\n",
    "def update_weights(w,dw,x):\n",
    "    grad=np.matmul(x.T,dw)/x.shape[0]\n",
    "    w = w - lr*grad\n",
    "    return w\n",
    "\n",
    "def update_biases(b,dw):\n",
    "    x=np.ones(shape=(dw.shape[0],1))\n",
    "    grad=np.matmul(dw.T,x)\n",
    "    b = b - lr*grad\n",
    "    return b"
   ]
  },
  {
   "cell_type": "code",
   "execution_count": 16,
   "metadata": {},
   "outputs": [
    {
     "name": "stdout",
     "output_type": "stream",
     "text": [
      "(2, 2) (2, 1)\n",
      "(2, 1) (1, 1)\n"
     ]
    }
   ],
   "source": [
    "input_neuron=xd.shape[0]\n",
    "output_neuron=yd.shape[1]\n",
    "hidden_neurons=2\n",
    "hidden_layers=1\n",
    "num_features=xd.shape[1]\n",
    "\n",
    "weight_hidden,bias_hidden,weight_output,bias_output = 0,0,0,0\n",
    "\n",
    "lr=0.01\n",
    "\n",
    "def init_weights(type=\"random\"):\n",
    "    \n",
    "    global weight_hidden,bias_hidden,weight_output,bias_output\n",
    "    \n",
    "    if(type==\"random\"):\n",
    "        weight_hidden=np.random.randn(num_features,hidden_neurons)\n",
    "        bias_hidden=np.random.randn(hidden_neurons,1)\n",
    "        weight_output=np.random.rand(hidden_neurons,output_neuron)\n",
    "        bias_output=np.random.rand(output_neuron,1)\n",
    "        \n",
    "    else:\n",
    "        weight_hidden=np.array([[1,3],[2,4]])\n",
    "        bias_hidden=np.array([[1],[1]])\n",
    "        weight_output=np.array([[2],[3]])\n",
    "        bias_output=np.array([[-1]])\n",
    "        \n",
    "init_weights(\"random\")\n",
    "\n",
    "print(weight_hidden.shape,bias_hidden.shape)\n",
    "print(weight_output.shape,bias_output.shape)"
   ]
  },
  {
   "cell_type": "code",
   "execution_count": 19,
   "metadata": {},
   "outputs": [],
   "source": [
    "epochs=[]\n",
    "losses=[]\n",
    "for i in range(100000):\n",
    "\n",
    "    hidden=sigmoid(forward_with_bias(xd,weight_hidden,bias_hidden))\n",
    "    output=sigmoid(forward_with_bias(hidden,weight_output,bias_output))\n",
    "\n",
    "    loss=crossloss(yd,output)\n",
    "    epochs.append(i)\n",
    "    losses.append(loss.mean())\n",
    "    \n",
    "    derivative_weight_output = (output-yd)\n",
    "    derivative_weight_hidden = hidden*(1-hidden)\n",
    "    derivative_weight_hidden *= downstream(weight_output,derivative_weight_output)\n",
    "\n",
    "    weight_output = update_weights(weight_output,derivative_weight_output,hidden)\n",
    "    bias_output = update_biases(bias_output,derivative_weight_output)\n",
    "\n",
    "    weight_hidden = update_weights(weight_hidden,derivative_weight_hidden,xd)\n",
    "    bias_hidden = update_biases(bias_hidden,derivative_weight_hidden)"
   ]
  },
  {
   "cell_type": "code",
   "execution_count": 20,
   "metadata": {},
   "outputs": [
    {
     "data": {
      "text/plain": [
       "[<matplotlib.lines.Line2D at 0x11bea6208>]"
      ]
     },
     "execution_count": 20,
     "metadata": {},
     "output_type": "execute_result"
    },
    {
     "data": {
      "image/png": "[encoded data removed]",
      "text/plain": [
       "<Figure size 432x288 with 1 Axes>"
      ]
     },
     "metadata": {
      "needs_background": "light"
     },
     "output_type": "display_data"
    }
   ],
   "source": [
    "plt.plot(epochs,losses)"
   ]
  },
  {
   "cell_type": "code",
   "execution_count": 21,
   "metadata": {},
   "outputs": [
    {
     "data": {
      "text/plain": [
       "array([[0.01101281],\n",
       "       [0.66124326],\n",
       "       [0.66121899],\n",
       "       [0.66635472]])"
      ]
     },
     "execution_count": 21,
     "metadata": {},
     "output_type": "execute_result"
    }
   ],
   "source": [
    "hidden=sigmoid(forward_with_bias(xd,weight_hidden,bias_hidden))\n",
    "output=sigmoid(forward_with_bias(hidden,weight_output,bias_output))\n",
    "output"
   ]
  },
  {
   "cell_type": "code",
   "execution_count": 249,
   "metadata": {},
   "outputs": [
    {
     "data": {
      "image/png": "[encoded data removed]",
      "text/plain": [
       "<Figure size 432x288 with 2 Axes>"
      ]
     },
     "metadata": {},
     "output_type": "display_data"
    }
   ],
   "source": [
    "plotData(hidden[:,0],hidden[:,1],yd.flatten())"
   ]
  },
  {
   "cell_type": "code",
   "execution_count": null,
   "metadata": {},
   "outputs": [],
   "source": []
  }
 ],
 "metadata": {
  "kernelspec": {
   "display_name": "Python 3",
   "language": "python",
   "name": "python3"
  },
  "language_info": {
   "codemirror_mode": {
    "name": "ipython",
    "version": 3
   },
   "file_extension": ".py",
   "mimetype": "text/x-python",
   "name": "python",
   "nbconvert_exporter": "python",
   "pygments_lexer": "ipython3",
   "version": "3.7.3"
  }
 },
 "nbformat": 4,
 "nbformat_minor": 2
}
