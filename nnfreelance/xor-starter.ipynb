{
 "cells": [
  {
   "cell_type": "code",
   "execution_count": 1,
   "metadata": {},
   "outputs": [],
   "source": [
    "import numpy as np\n",
    "import matplotlib.pyplot as plt"
   ]
  },
  {
   "cell_type": "code",
   "execution_count": 42,
   "metadata": {},
   "outputs": [],
   "source": [
    "train_file=\"./xor_train.txt\"\n",
    "test_file=\"./xor_test.txt\"\n",
    "\n",
    "\n",
    "# train_file=sys.argv[1]\n",
    "# test_file=sys.argv[2]\n",
    "# n = sys.argv[3]\n",
    "\n",
    "n=2\n",
    "\n",
    "with open(train_file) as f:\n",
    "    train=f.read().splitlines()\n",
    "\n",
    "with open(test_file) as f:\n",
    "    test=f.read().splitlines()\n",
    "    \n",
    "train=np.array([[float(x) for x in y.split()] for y in train])\n",
    "test=np.array([[float(x) for x in y.split()] for y in test])\n",
    "\n",
    "train_data=train.shape[0]\n",
    "tot_features=train.shape[1]-1\n",
    "assert tot_features==test.shape[1]-1\n",
    "test_data=test.shape[0]\n",
    "\n",
    "xtrain=train[:,1:]\n",
    "ytrain=np.reshape(train[:,0],(train_data,1))\n",
    "ytrain[ytrain<0]=0\n",
    "\n",
    "xtest=test[:,1:]\n",
    "ytest=np.reshape(test[:,0],(test_data,1))\n",
    "ytest[ytest<0]=0"
   ]
  },
  {
   "cell_type": "code",
   "execution_count": 43,
   "metadata": {},
   "outputs": [],
   "source": [
    "def sigmoid(x):\n",
    "    return 1/(1+np.exp(-x))\n",
    "\n",
    "def signum(x):\n",
    "    return np.sign(x)\n",
    "\n",
    "def forward_with_bias(x,w,b):\n",
    "    y=np.matmul(x,w)\n",
    "    for i in range(b.shape[0]):\n",
    "        y[:,i] += b[i]\n",
    "    return y\n",
    "\n",
    "def crossloss(y,y_):\n",
    "    return (-y*np.log(y_))-((1-y)*np.log(1-y_))\n",
    "\n",
    "def downstream(w,dw):\n",
    "    out=np.zeros(shape=(dw.shape[0],w.shape[0]))\n",
    "    for i in range(w.shape[0]):\n",
    "        out[:,i:i+1]=dw*w[i]\n",
    "    return out\n",
    "\n",
    "def update_weights(w,dw,x):\n",
    "    grad=np.matmul(x.T,dw)/x.shape[0]\n",
    "    w = w - lr*grad\n",
    "    return w\n",
    "\n",
    "def update_biases(b,dw):\n",
    "    x=np.ones(shape=(dw.shape[0],1))\n",
    "    grad=np.matmul(dw.T,x)\n",
    "    b = b - lr*grad\n",
    "    return b"
   ]
  },
  {
   "cell_type": "code",
   "execution_count": 44,
   "metadata": {},
   "outputs": [
    {
     "name": "stdout",
     "output_type": "stream",
     "text": [
      "(2, 2) (2, 1)\n",
      "(2, 1) (1, 1)\n"
     ]
    }
   ],
   "source": [
    "input_neuron=tot_features\n",
    "output_neuron=1\n",
    "hidden_neuron=n\n",
    "hidden_layers=1\n",
    "\n",
    "lr=0.1\n",
    "epochs=1000\n",
    "\n",
    "weight_hidden=np.random.randn(input_neuron,hidden_neuron)\n",
    "bias_hidden=np.random.randn(hidden_neuron,1)\n",
    "weight_output=np.random.rand(hidden_neuron,output_neuron)\n",
    "bias_output=np.random.rand(output_neuron,1)\n",
    "        \n",
    "\n",
    "print(weight_hidden.shape,bias_hidden.shape)\n",
    "print(weight_output.shape,bias_output.shape)"
   ]
  },
  {
   "cell_type": "code",
   "execution_count": 45,
   "metadata": {},
   "outputs": [],
   "source": [
    "losses=[]\n",
    "for i in range(epochs):\n",
    "    \n",
    "    index=list(range(len(xtrain)))\n",
    "    np.random.shuffle(index)\n",
    "    xtrain,ytrain=xtrain[index],ytrain[index]\n",
    "\n",
    "    hidden=sigmoid(forward_with_bias(xtrain,weight_hidden,bias_hidden))\n",
    "    output=sigmoid(forward_with_bias(hidden,weight_output,bias_output))\n",
    "    loss=crossloss(ytrain,output)\n",
    "    if(i%100==0):\n",
    "        losses.append(loss.mean())\n",
    "    \n",
    "    derivative_weight_output = (output-ytrain)\n",
    "    derivative_weight_hidden = hidden*(1-hidden)\n",
    "    derivative_weight_hidden *= downstream(weight_output,derivative_weight_output)\n",
    "\n",
    "    weight_output = update_weights(weight_output,derivative_weight_output,hidden)\n",
    "    bias_output = update_biases(bias_output,derivative_weight_output)\n",
    "\n",
    "    weight_hidden = update_weights(weight_hidden,derivative_weight_hidden,xtrain)\n",
    "    bias_hidden = update_biases(bias_hidden,derivative_weight_hidden)"
   ]
  },
  {
   "cell_type": "code",
   "execution_count": 46,
   "metadata": {},
   "outputs": [
    {
     "data": {
      "text/plain": [
       "[<matplotlib.lines.Line2D at 0x10f833f98>]"
      ]
     },
     "execution_count": 46,
     "metadata": {},
     "output_type": "execute_result"
    },
    {
     "data": {
      "image/png": "[encoded data removed]",
      "text/plain": [
       "<Figure size 432x288 with 1 Axes>"
      ]
     },
     "metadata": {
      "needs_background": "light"
     },
     "output_type": "display_data"
    }
   ],
   "source": [
    "plt.plot(list(range(len(losses))),losses)"
   ]
  },
  {
   "cell_type": "code",
   "execution_count": 47,
   "metadata": {},
   "outputs": [],
   "source": [
    "hidden=sigmoid(forward_with_bias(xtest,weight_hidden,bias_hidden))\n",
    "output=sigmoid(forward_with_bias(hidden,weight_output,bias_output))\n",
    "output[output>0.5]=1\n",
    "output[output<=0.5]=0\n",
    "loss=output-ytest\n",
    "output[output==0]=-1\n",
    "\n",
    "print(\"Test Output : {}\".format(output))\n",
    "print(\"Test Loss : {}\".format(loss))\n",
    "\n",
    "with open(\"output.txt\",\"w+\") as f:\n",
    "    \n",
    "    f.writelines(\"w = \")\n",
    "    f.write(str(weight_output))\n",
    "    f.writelines(\"\\n\")\n",
    "    f.writelines(\"w = \")\n",
    "    f.write(str(weight_hidden))\n",
    "    f.writelines(\"\\n\")\n",
    "    for i in range(len(losses)):\n",
    "        f.writelines(\"i= {}   Objective : {} \\n\".format(i,losses[i]))"
   ]
  },
  {
   "cell_type": "markdown",
   "metadata": {},
   "source": [
    "### answers \n",
    "\n",
    "1. yes approximately, final training error is around 0.014\n",
    "2. yes, right now we're taking all the training data in each epoch, for SGD randomly take 1 data point in each epoch\n",
    "3. No, for both of them test error is 0.\n",
    "4. same algorithm works, just the derivative value changes."
   ]
  },
  {
   "cell_type": "code",
   "execution_count": null,
   "metadata": {},
   "outputs": [],
   "source": []
  }
 ],
 "metadata": {
  "kernelspec": {
   "display_name": "Python 3",
   "language": "python",
   "name": "python3"
  },
  "language_info": {
   "codemirror_mode": {
    "name": "ipython",
    "version": 3
   },
   "file_extension": ".py",
   "mimetype": "text/x-python",
   "name": "python",
   "nbconvert_exporter": "python",
   "pygments_lexer": "ipython3",
   "version": "3.7.3"
  }
 },
 "nbformat": 4,
 "nbformat_minor": 2
}
